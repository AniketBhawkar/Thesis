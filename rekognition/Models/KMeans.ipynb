{
 "cells": [
  {
   "cell_type": "code",
   "execution_count": 10,
   "metadata": {},
   "outputs": [],
   "source": [
    "# Dependencies\n",
    "\n",
    "import pandas as pd\n",
    "import numpy as np\n",
    "from sklearn.cluster import KMeans\n",
    "from sklearn.preprocessing import LabelEncoder\n",
    "from sklearn.preprocessing import MinMaxScaler\n",
    "import seaborn as sns\n",
    "import matplotlib.pyplot as plt\n",
    "%matplotlib inline"
   ]
  },
  {
   "cell_type": "code",
   "execution_count": 11,
   "metadata": {},
   "outputs": [],
   "source": [
    "#names = ['ID','UserID','first_name','last_name','email','gender','City','Country', 'Age', 'Profession','Architecture', 'Clothing', 'Food','Transport','MainCategory']\n",
    "#dataset = pd.read_csv(\"F:/Masters/Semester 3/Thesis/rekognition/backup_01July2019/dataset-final.csv\", delimiter=\",\",names=names)\n",
    "#dataset.drop(dataset.columns[[0,1, 2, 3, 4, 5, 6, 7, 8, 9]], axis=1, inplace=True)\n",
    "#dataset = dataset.iloc[1:]\n",
    "\n",
    "\n",
    "#names = ['ID','UserID','first_name','last_name','email','gender','City','Country', 'Age', 'Profession', 'Transport','Architecture', 'Food', 'Nature', 'MainCategory']\n",
    "#dataset = pd.read_csv(\"F:/Masters/Semester 3/Thesis/rekognition/Dataset/KMeans/50/dataset-final.csv\", delimiter=\",\",names=names)\n",
    "#dataset.drop(dataset.columns[[0,1, 2, 3, 4, 5, 6, 7, 8, 9]], axis=1, inplace=True)\n",
    "#dataset = dataset.iloc[1:]\n",
    "\n",
    "\n",
    "names = ['ID','UserID','first_name','last_name','email','gender','City','Country', 'Age', 'Profession','Adventure','Architecture', 'Beach', 'Clothing', 'Food', 'Nature','MainCategory']\n",
    "dataset = pd.read_csv(\"F:/Masters/Semester 3/Thesis/rekognition/Dataset/KMeans/50/dataset-final.csv\", delimiter=\",\",names=names)\n",
    "dataset.drop(dataset.columns[[0,1, 2, 3, 4, 5, 6, 7, 8, 9]], axis=1, inplace=True)\n",
    "dataset = dataset.iloc[1:]\n"
   ]
  },
  {
   "cell_type": "code",
   "execution_count": 12,
   "metadata": {},
   "outputs": [
    {
     "data": {
      "text/plain": [
       "Adventure       object\n",
       "Architecture    object\n",
       "Beach           object\n",
       "Clothing        object\n",
       "Food            object\n",
       "Nature          object\n",
       "MainCategory    object\n",
       "dtype: object"
      ]
     },
     "execution_count": 12,
     "metadata": {},
     "output_type": "execute_result"
    }
   ],
   "source": [
    "dataset.dtypes"
   ]
  },
  {
   "cell_type": "code",
   "execution_count": 13,
   "metadata": {},
   "outputs": [],
   "source": [
    "#dataset['gender'] = dataset['gender'].astype(str).astype(int)\n",
    "#dataset['City'] = dataset['City'].astype(str).astype(int)\n",
    "#dataset['Country'] = dataset['Country'].astype(str).astype(int)\n",
    "#dataset['Age'] = dataset['Age'].astype(str).astype(int)\n",
    "#dataset['Profession'] = dataset['Profession'].astype(str).astype(int)\n",
    "\n",
    "dataset['Adventure'] = dataset['Adventure'].astype(str).astype(int)\n",
    "dataset['Architecture'] = dataset['Architecture'].astype(str).astype(int)\n",
    "dataset['Beach'] = dataset['Beach'].astype(str).astype(int)\n",
    "dataset['Clothing'] = dataset['Clothing'].astype(str).astype(int)\n",
    "dataset['Food'] = dataset['Food'].astype(str).astype(int)\n",
    "dataset['Nature'] = dataset['Nature'].astype(str).astype(int)\n",
    "dataset['MainCategory'] = dataset['MainCategory'].astype(str).astype(int)\n",
    "\n",
    "\n",
    "#dataset['Transport'] = dataset['Transport'].astype(str).astype(int)\n",
    "#dataset['Architecture'] = dataset['Architecture'].astype(str).astype(int)\n",
    "#dataset['Food'] = dataset['Food'].astype(str).astype(int)\n",
    "#dataset['Nature'] = dataset['Nature'].astype(str).astype(int)\n",
    "#dataset['MainCategory'] = dataset['MainCategory'].astype(str).astype(int)\n"
   ]
  },
  {
   "cell_type": "code",
   "execution_count": 14,
   "metadata": {},
   "outputs": [],
   "source": [
    "from sklearn.model_selection import train_test_split  \n",
    "train, test = train_test_split(dataset, test_size=0.2)  "
   ]
  },
  {
   "cell_type": "code",
   "execution_count": 15,
   "metadata": {},
   "outputs": [
    {
     "name": "stdout",
     "output_type": "stream",
     "text": [
      "***** Train_Set *****\n",
      "    Adventure  Architecture  Beach  Clothing  Food  Nature  MainCategory\n",
      "21          3             1      1         0     1       4             5\n",
      "43          0             3      0         0     2       5             5\n",
      "19          2             5      1         1     0       1             1\n",
      "39          1             3      1         0     1       4             5\n",
      "22          1             5      0         3     1       0             1\n",
      "\n",
      "\n",
      "***** Test_Set *****\n",
      "    Adventure  Architecture  Beach  Clothing  Food  Nature  MainCategory\n",
      "37          4             1      0         1     1       3             0\n",
      "18          2             1      2         1     0       4             5\n",
      "42          3             2      1         2     1       1             0\n",
      "46          1             4      0         3     0       2             1\n",
      "14          2             2      0         4     0       2             3\n"
     ]
    }
   ],
   "source": [
    "print(\"***** Train_Set *****\")\n",
    "print(train.head())\n",
    "print(\"\\n\")\n",
    "print(\"***** Test_Set *****\")\n",
    "print(test.head())"
   ]
  },
  {
   "cell_type": "code",
   "execution_count": 16,
   "metadata": {},
   "outputs": [
    {
     "name": "stdout",
     "output_type": "stream",
     "text": [
      "***** Train_Set *****\n",
      "       Adventure  Architecture      Beach   Clothing       Food     Nature  \\\n",
      "count   40.00000     40.000000  40.000000  40.000000  40.000000  40.000000   \n",
      "mean     2.05000      3.325000   0.500000   0.950000   1.075000   2.100000   \n",
      "std      1.15359      1.456858   0.716115   1.036513   0.971055   1.645507   \n",
      "min      0.00000      1.000000   0.000000   0.000000   0.000000   0.000000   \n",
      "25%      1.00000      2.000000   0.000000   0.000000   0.000000   1.000000   \n",
      "50%      2.00000      3.000000   0.000000   1.000000   1.000000   2.000000   \n",
      "75%      3.00000      5.000000   1.000000   1.000000   2.000000   3.000000   \n",
      "max      5.00000      6.000000   3.000000   4.000000   3.000000   6.000000   \n",
      "\n",
      "       MainCategory  \n",
      "count     40.000000  \n",
      "mean       2.050000  \n",
      "std        1.810935  \n",
      "min        0.000000  \n",
      "25%        1.000000  \n",
      "50%        1.000000  \n",
      "75%        3.500000  \n",
      "max        5.000000  \n",
      "\n",
      "\n",
      "***** Test_Set *****\n",
      "       Adventure  Architecture      Beach   Clothing       Food     Nature  \\\n",
      "count  11.000000     11.000000  11.000000  11.000000  11.000000  11.000000   \n",
      "mean    2.090909      2.181818   0.727273   1.818182   0.909091   2.181818   \n",
      "std     1.445998      1.167748   0.786245   1.328020   0.943880   0.873863   \n",
      "min     0.000000      1.000000   0.000000   0.000000   0.000000   1.000000   \n",
      "25%     1.000000      1.000000   0.000000   1.000000   0.000000   2.000000   \n",
      "50%     2.000000      2.000000   1.000000   1.000000   1.000000   2.000000   \n",
      "75%     2.500000      3.000000   1.000000   2.500000   1.000000   2.500000   \n",
      "max     5.000000      4.000000   2.000000   4.000000   3.000000   4.000000   \n",
      "\n",
      "       MainCategory  \n",
      "count     11.000000  \n",
      "mean       2.090909  \n",
      "std        1.972539  \n",
      "min        0.000000  \n",
      "25%        0.500000  \n",
      "50%        1.000000  \n",
      "75%        3.500000  \n",
      "max        5.000000  \n"
     ]
    }
   ],
   "source": [
    "print(\"***** Train_Set *****\")\n",
    "print(train.describe())\n",
    "print(\"\\n\")\n",
    "print(\"***** Test_Set *****\")\n",
    "print(test.describe())"
   ]
  },
  {
   "cell_type": "code",
   "execution_count": 17,
   "metadata": {},
   "outputs": [
    {
     "name": "stdout",
     "output_type": "stream",
     "text": [
      "<class 'pandas.core.frame.DataFrame'>\n",
      "Int64Index: 40 entries, 21 to 9\n",
      "Data columns (total 7 columns):\n",
      "Adventure       40 non-null int32\n",
      "Architecture    40 non-null int32\n",
      "Beach           40 non-null int32\n",
      "Clothing        40 non-null int32\n",
      "Food            40 non-null int32\n",
      "Nature          40 non-null int32\n",
      "MainCategory    40 non-null int32\n",
      "dtypes: int32(7)\n",
      "memory usage: 1.4 KB\n"
     ]
    }
   ],
   "source": [
    "\n",
    "\n",
    "train.info()\n"
   ]
  },
  {
   "cell_type": "code",
   "execution_count": 18,
   "metadata": {},
   "outputs": [
    {
     "data": {
      "text/plain": [
       "array([[3., 1., 1., 0., 1., 4.],\n",
       "       [0., 3., 0., 0., 2., 5.],\n",
       "       [2., 5., 1., 1., 0., 1.],\n",
       "       [1., 3., 1., 0., 1., 4.],\n",
       "       [1., 5., 0., 3., 1., 0.],\n",
       "       [3., 3., 1., 0., 0., 3.],\n",
       "       [2., 5., 0., 2., 0., 1.],\n",
       "       [1., 4., 1., 0., 3., 1.],\n",
       "       [2., 5., 2., 1., 0., 0.],\n",
       "       [1., 2., 0., 2., 0., 5.],\n",
       "       [2., 1., 0., 0., 1., 6.],\n",
       "       [2., 4., 1., 1., 0., 2.],\n",
       "       [3., 2., 0., 1., 2., 2.],\n",
       "       [3., 3., 0., 1., 1., 2.],\n",
       "       [2., 3., 1., 1., 2., 1.],\n",
       "       [3., 5., 0., 1., 0., 1.],\n",
       "       [3., 3., 0., 0., 2., 2.],\n",
       "       [1., 5., 0., 3., 1., 0.],\n",
       "       [1., 1., 0., 1., 3., 4.],\n",
       "       [0., 5., 0., 2., 2., 1.],\n",
       "       [3., 5., 0., 0., 0., 2.],\n",
       "       [1., 6., 2., 1., 0., 0.],\n",
       "       [4., 4., 1., 0., 0., 1.],\n",
       "       [1., 3., 1., 1., 0., 4.],\n",
       "       [1., 2., 1., 3., 0., 3.],\n",
       "       [3., 5., 0., 0., 2., 0.],\n",
       "       [4., 1., 0., 0., 1., 4.],\n",
       "       [3., 3., 0., 1., 1., 2.],\n",
       "       [1., 1., 0., 4., 1., 3.],\n",
       "       [3., 3., 0., 2., 1., 1.],\n",
       "       [3., 5., 1., 0., 0., 1.],\n",
       "       [3., 3., 1., 1., 1., 1.],\n",
       "       [3., 2., 0., 0., 2., 3.],\n",
       "       [1., 1., 0., 2., 1., 5.],\n",
       "       [1., 4., 0., 1., 2., 2.],\n",
       "       [1., 4., 0., 0., 3., 2.],\n",
       "       [1., 3., 1., 1., 2., 2.],\n",
       "       [2., 5., 0., 0., 0., 3.],\n",
       "       [5., 2., 0., 1., 2., 0.],\n",
       "       [2., 3., 3., 0., 2., 0.]])"
      ]
     },
     "execution_count": 18,
     "metadata": {},
     "output_type": "execute_result"
    }
   ],
   "source": [
    "X = np.array(train.drop(['MainCategory'], 1).astype(float))\n",
    "X\n"
   ]
  },
  {
   "cell_type": "code",
   "execution_count": 19,
   "metadata": {},
   "outputs": [
    {
     "data": {
      "text/plain": [
       "array([5, 5, 1, 5, 1, 1, 1, 1, 1, 5, 5, 1, 0, 1, 1, 1, 1, 1, 5, 1, 1, 1,\n",
       "       1, 5, 3, 1, 5, 1, 3, 0, 1, 1, 5, 5, 1, 1, 1, 1, 0, 2])"
      ]
     },
     "execution_count": 19,
     "metadata": {},
     "output_type": "execute_result"
    }
   ],
   "source": [
    "y = np.array(train['MainCategory'])\n",
    "y"
   ]
  },
  {
   "cell_type": "code",
   "execution_count": 20,
   "metadata": {},
   "outputs": [
    {
     "name": "stdout",
     "output_type": "stream",
     "text": [
      "<class 'pandas.core.frame.DataFrame'>\n",
      "Int64Index: 40 entries, 21 to 9\n",
      "Data columns (total 7 columns):\n",
      "Adventure       40 non-null int32\n",
      "Architecture    40 non-null int32\n",
      "Beach           40 non-null int32\n",
      "Clothing        40 non-null int32\n",
      "Food            40 non-null int32\n",
      "Nature          40 non-null int32\n",
      "MainCategory    40 non-null int32\n",
      "dtypes: int32(7)\n",
      "memory usage: 1.4 KB\n"
     ]
    }
   ],
   "source": [
    "train.info()"
   ]
  },
  {
   "cell_type": "code",
   "execution_count": 21,
   "metadata": {},
   "outputs": [
    {
     "data": {
      "text/plain": [
       "KMeans(algorithm='auto', copy_x=True, init='k-means++', max_iter=300,\n",
       "    n_clusters=3, n_init=10, n_jobs=None, precompute_distances='auto',\n",
       "    random_state=None, tol=0.0001, verbose=0)"
      ]
     },
     "execution_count": 21,
     "metadata": {},
     "output_type": "execute_result"
    }
   ],
   "source": [
    "kmeans = KMeans(n_clusters=3)\n",
    "kmeans.fit(X)"
   ]
  },
  {
   "cell_type": "code",
   "execution_count": 22,
   "metadata": {},
   "outputs": [
    {
     "name": "stdout",
     "output_type": "stream",
     "text": [
      "0.025\n"
     ]
    }
   ],
   "source": [
    "correct = 0\n",
    "for i in range(len(X)):\n",
    "    predict_me = np.array(X[i].astype(float))\n",
    "    predict_me = predict_me.reshape(-1, len(predict_me))\n",
    "    prediction = kmeans.predict(predict_me)\n",
    "    if prediction[0] == y[i]:\n",
    "        correct += 1\n",
    "print(correct/len(X))"
   ]
  },
  {
   "cell_type": "code",
   "execution_count": 23,
   "metadata": {},
   "outputs": [
    {
     "data": {
      "text/plain": [
       "KMeans(algorithm='full', copy_x=False, init='k-means++', max_iter=4000,\n",
       "    n_clusters=3, n_init=20, n_jobs=None, precompute_distances=False,\n",
       "    random_state=None, tol=0.0001, verbose=0)"
      ]
     },
     "execution_count": 23,
     "metadata": {},
     "output_type": "execute_result"
    }
   ],
   "source": [
    "kmeans =  KMeans(n_clusters=3, n_init=20, max_iter=4000, precompute_distances=False, algorithm='full', copy_x=False)\n",
    "kmeans.fit(X)"
   ]
  },
  {
   "cell_type": "code",
   "execution_count": 24,
   "metadata": {},
   "outputs": [
    {
     "name": "stdout",
     "output_type": "stream",
     "text": [
      "0.075\n"
     ]
    }
   ],
   "source": [
    "correct = 0\n",
    "for i in range(len(X)):\n",
    "    predict_me = np.array(X[i].astype(float))\n",
    "    predict_me = predict_me.reshape(-1, len(predict_me))\n",
    "    prediction = kmeans.predict(predict_me)\n",
    "    if prediction[0] == y[i]:\n",
    "        correct += 1\n",
    "\n",
    "print(correct/len(X))"
   ]
  },
  {
   "cell_type": "code",
   "execution_count": 25,
   "metadata": {},
   "outputs": [],
   "source": [
    "scaler = MinMaxScaler()\n",
    "X_scaled = scaler.fit_transform(X)"
   ]
  },
  {
   "cell_type": "code",
   "execution_count": 26,
   "metadata": {},
   "outputs": [
    {
     "data": {
      "text/plain": [
       "KMeans(algorithm='full', copy_x=False, init='k-means++', max_iter=4000,\n",
       "    n_clusters=3, n_init=20, n_jobs=None, precompute_distances=False,\n",
       "    random_state=None, tol=0.0001, verbose=0)"
      ]
     },
     "execution_count": 26,
     "metadata": {},
     "output_type": "execute_result"
    }
   ],
   "source": [
    "kmeans.fit(X_scaled)\n"
   ]
  },
  {
   "cell_type": "code",
   "execution_count": 27,
   "metadata": {},
   "outputs": [
    {
     "name": "stdout",
     "output_type": "stream",
     "text": [
      "0.05\n"
     ]
    }
   ],
   "source": [
    "correct = 0\n",
    "for i in range(len(X)):\n",
    "    predict_me = np.array(X[i].astype(float))\n",
    "    predict_me = predict_me.reshape(-1, len(predict_me))\n",
    "    prediction = kmeans.predict(predict_me)\n",
    "    if prediction[0] == y[i]:\n",
    "        correct += 1\n",
    "\n",
    "print(correct/len(X))"
   ]
  }
 ],
 "metadata": {
  "kernelspec": {
   "display_name": "Python 3",
   "language": "python",
   "name": "python3"
  },
  "language_info": {
   "codemirror_mode": {
    "name": "ipython",
    "version": 3
   },
   "file_extension": ".py",
   "mimetype": "text/x-python",
   "name": "python",
   "nbconvert_exporter": "python",
   "pygments_lexer": "ipython3",
   "version": "3.7.2"
  }
 },
 "nbformat": 4,
 "nbformat_minor": 2
}
