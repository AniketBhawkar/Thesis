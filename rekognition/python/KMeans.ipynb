{
 "cells": [
  {
   "cell_type": "code",
   "execution_count": 124,
   "metadata": {},
   "outputs": [],
   "source": [
    "# Dependencies\n",
    "\n",
    "import pandas as pd\n",
    "import numpy as np\n",
    "from sklearn.cluster import KMeans\n",
    "from sklearn.preprocessing import LabelEncoder\n",
    "from sklearn.preprocessing import MinMaxScaler\n",
    "import seaborn as sns\n",
    "import matplotlib.pyplot as plt\n",
    "%matplotlib inline"
   ]
  },
  {
   "cell_type": "code",
   "execution_count": 125,
   "metadata": {},
   "outputs": [],
   "source": [
    "#names = ['ID','UserID','first_name','last_name','email','gender','City','Country', 'Age', 'Profession','Architecture', 'Clothing', 'Food','Transport','MainCategory']\n",
    "#dataset = pd.read_csv(\"F:/Masters/Semester 3/Thesis/rekognition/backup_01July2019/dataset-final.csv\", delimiter=\",\",names=names)\n",
    "#dataset.drop(dataset.columns[[0,1, 2, 3, 4, 5, 6, 7, 8, 9]], axis=1, inplace=True)\n",
    "#dataset = dataset.iloc[1:]\n",
    "\n",
    "\n",
    "names = ['ID','UserID','first_name','last_name','email','gender','City','Country', 'Age', 'Profession', 'Transport','Architecture', 'Food', 'Nature', 'MainCategory']\n",
    "dataset = pd.read_csv(\"F:/Masters/Semester 3/Thesis/rekognition/dataset-final.csv\", delimiter=\",\",names=names)\n",
    "dataset.drop(dataset.columns[[0,1, 2, 3, 4, 5, 6, 7, 8, 9]], axis=1, inplace=True)\n",
    "dataset = dataset.iloc[1:]\n",
    "\n",
    "\n",
    "#names = ['ID','UserID','first_name','last_name','email','gender','City','Country', 'Age', 'Profession','Adventure','Architecture', 'Beach', 'Clothing', 'Food', 'Nature','MainCategory']\n",
    "#dataset = pd.read_csv(\"F:/Masters/Semester 3/thesis/rekognition/dataset-final.csv\", delimiter=\",\",names=names)\n",
    "#dataset.drop(dataset.columns[[0,1, 2, 3, 4, 5, 6, 7, 8, 9]], axis=1, inplace=True)\n",
    "#dataset = dataset.iloc[1:]\n"
   ]
  },
  {
   "cell_type": "code",
   "execution_count": 126,
   "metadata": {},
   "outputs": [
    {
     "data": {
      "text/plain": [
       "Transport       object\n",
       "Architecture    object\n",
       "Food            object\n",
       "Nature          object\n",
       "MainCategory    object\n",
       "dtype: object"
      ]
     },
     "execution_count": 126,
     "metadata": {},
     "output_type": "execute_result"
    }
   ],
   "source": [
    "dataset.dtypes"
   ]
  },
  {
   "cell_type": "code",
   "execution_count": 127,
   "metadata": {},
   "outputs": [],
   "source": [
    "#dataset['gender'] = dataset['gender'].astype(str).astype(int)\n",
    "#dataset['City'] = dataset['City'].astype(str).astype(int)\n",
    "#dataset['Country'] = dataset['Country'].astype(str).astype(int)\n",
    "#dataset['Age'] = dataset['Age'].astype(str).astype(int)\n",
    "#dataset['Profession'] = dataset['Profession'].astype(str).astype(int)\n",
    "\n",
    "#dataset['Adventure'] = dataset['Adventure'].astype(str).astype(int)\n",
    "#dataset['Architecture'] = dataset['Architecture'].astype(str).astype(int)\n",
    "#dataset['Beach'] = dataset['Beach'].astype(str).astype(int)\n",
    "#dataset['Clothing'] = dataset['Clothing'].astype(str).astype(int)\n",
    "#dataset['Food'] = dataset['Food'].astype(str).astype(int)\n",
    "#dataset['Nature'] = dataset['Nature'].astype(str).astype(int)\n",
    "#dataset['MainCategory'] = dataset['MainCategory'].astype(str).astype(int)\n",
    "\n",
    "\n",
    "dataset['Transport'] = dataset['Transport'].astype(str).astype(int)\n",
    "dataset['Architecture'] = dataset['Architecture'].astype(str).astype(int)\n",
    "dataset['Food'] = dataset['Food'].astype(str).astype(int)\n",
    "dataset['Nature'] = dataset['Nature'].astype(str).astype(int)\n",
    "dataset['MainCategory'] = dataset['MainCategory'].astype(str).astype(int)\n"
   ]
  },
  {
   "cell_type": "code",
   "execution_count": 128,
   "metadata": {},
   "outputs": [],
   "source": [
    "from sklearn.model_selection import train_test_split  \n",
    "train, test = train_test_split(dataset, test_size=0.2)  "
   ]
  },
  {
   "cell_type": "code",
   "execution_count": 129,
   "metadata": {},
   "outputs": [
    {
     "name": "stdout",
     "output_type": "stream",
     "text": [
      "***** Train_Set *****\n",
      "         Transport  Architecture  Food  Nature  MainCategory\n",
      "62.0 72          1             0     0       2             1\n",
      "38.0 48          1             0     1       4             5\n",
      "13.0 23          0             4     0       2             3\n",
      "60.0 70          1             0     5       1             4\n",
      "0.0  10          2             0     3       2             4\n",
      "\n",
      "\n",
      "***** Test_Set *****\n",
      "         Transport  Architecture  Food  Nature  MainCategory\n",
      "51.0 61          1             0     2       1             1\n",
      "67.0 77          0             2     1       2             0\n",
      "74.0 84          0             3     0       1             3\n",
      "15.0 25          2             1     0       0             1\n",
      "27.0 37          0             0     1       4             5\n"
     ]
    }
   ],
   "source": [
    "print(\"***** Train_Set *****\")\n",
    "print(train.head())\n",
    "print(\"\\n\")\n",
    "print(\"***** Test_Set *****\")\n",
    "print(test.head())"
   ]
  },
  {
   "cell_type": "code",
   "execution_count": 130,
   "metadata": {},
   "outputs": [
    {
     "name": "stdout",
     "output_type": "stream",
     "text": [
      "***** Train_Set *****\n",
      "       Transport  Architecture       Food     Nature  MainCategory\n",
      "count  60.000000     60.000000  60.000000  60.000000     60.000000\n",
      "mean    0.566667      1.100000   1.150000   2.050000      1.966667\n",
      "std     0.721737      1.130472   1.070799   1.170615      1.813010\n",
      "min     0.000000      0.000000   0.000000   0.000000      0.000000\n",
      "25%     0.000000      0.000000   0.000000   1.000000      1.000000\n",
      "50%     0.000000      1.000000   1.000000   2.000000      1.000000\n",
      "75%     1.000000      2.000000   2.000000   3.000000      3.250000\n",
      "max     4.000000      4.000000   5.000000   5.000000      5.000000\n",
      "\n",
      "\n",
      "***** Test_Set *****\n",
      "       Transport  Architecture       Food     Nature  MainCategory\n",
      "count  16.000000     16.000000  16.000000  16.000000     16.000000\n",
      "mean    0.687500      0.937500   1.062500   2.250000      2.562500\n",
      "std     0.946485      1.062623   0.680074   1.949359      2.064582\n",
      "min     0.000000      0.000000   0.000000   0.000000      0.000000\n",
      "25%     0.000000      0.000000   1.000000   1.000000      1.000000\n",
      "50%     0.000000      1.000000   1.000000   1.500000      1.500000\n",
      "75%     1.000000      1.250000   1.250000   4.000000      5.000000\n",
      "max     3.000000      3.000000   2.000000   6.000000      5.000000\n"
     ]
    }
   ],
   "source": [
    "print(\"***** Train_Set *****\")\n",
    "print(train.describe())\n",
    "print(\"\\n\")\n",
    "print(\"***** Test_Set *****\")\n",
    "print(test.describe())"
   ]
  },
  {
   "cell_type": "code",
   "execution_count": 131,
   "metadata": {},
   "outputs": [
    {
     "name": "stdout",
     "output_type": "stream",
     "text": [
      "<class 'pandas.core.frame.DataFrame'>\n",
      "MultiIndex: 60 entries, (62.0, 72) to (28.0, 38)\n",
      "Data columns (total 5 columns):\n",
      "Transport       60 non-null int32\n",
      "Architecture    60 non-null int32\n",
      "Food            60 non-null int32\n",
      "Nature          60 non-null int32\n",
      "MainCategory    60 non-null int32\n",
      "dtypes: int32(5)\n",
      "memory usage: 2.5+ KB\n"
     ]
    }
   ],
   "source": [
    "\n",
    "\n",
    "train.info()\n"
   ]
  },
  {
   "cell_type": "code",
   "execution_count": 132,
   "metadata": {},
   "outputs": [
    {
     "data": {
      "text/plain": [
       "array([[1., 0., 0., 2.],\n",
       "       [1., 0., 1., 4.],\n",
       "       [0., 4., 0., 2.],\n",
       "       [1., 0., 5., 1.],\n",
       "       [2., 0., 3., 2.],\n",
       "       [4., 0., 1., 2.],\n",
       "       [1., 2., 1., 1.],\n",
       "       [0., 0., 3., 2.],\n",
       "       [0., 2., 2., 3.],\n",
       "       [0., 0., 2., 2.],\n",
       "       [1., 3., 0., 3.],\n",
       "       [0., 0., 0., 2.],\n",
       "       [1., 0., 1., 1.],\n",
       "       [0., 1., 2., 2.],\n",
       "       [0., 0., 2., 4.],\n",
       "       [1., 1., 1., 1.],\n",
       "       [1., 0., 2., 3.],\n",
       "       [0., 0., 2., 3.],\n",
       "       [1., 0., 0., 2.],\n",
       "       [0., 1., 1., 2.],\n",
       "       [0., 0., 2., 4.],\n",
       "       [0., 1., 1., 2.],\n",
       "       [1., 1., 2., 2.],\n",
       "       [0., 1., 2., 0.],\n",
       "       [0., 0., 0., 3.],\n",
       "       [0., 1., 0., 1.],\n",
       "       [1., 0., 0., 3.],\n",
       "       [1., 1., 0., 4.],\n",
       "       [0., 3., 0., 2.],\n",
       "       [1., 1., 0., 1.],\n",
       "       [0., 2., 1., 2.],\n",
       "       [0., 4., 1., 3.],\n",
       "       [0., 2., 1., 5.],\n",
       "       [1., 0., 1., 1.],\n",
       "       [0., 3., 1., 0.],\n",
       "       [1., 0., 0., 1.],\n",
       "       [1., 0., 3., 1.],\n",
       "       [0., 1., 3., 4.],\n",
       "       [1., 1., 0., 2.],\n",
       "       [0., 1., 1., 2.],\n",
       "       [0., 0., 3., 2.],\n",
       "       [1., 3., 1., 2.],\n",
       "       [0., 0., 2., 0.],\n",
       "       [0., 1., 2., 2.],\n",
       "       [1., 1., 2., 2.],\n",
       "       [2., 1., 0., 0.],\n",
       "       [0., 1., 2., 3.],\n",
       "       [1., 2., 1., 1.],\n",
       "       [0., 2., 0., 5.],\n",
       "       [0., 4., 0., 2.],\n",
       "       [1., 1., 1., 3.],\n",
       "       [0., 1., 1., 3.],\n",
       "       [0., 2., 1., 1.],\n",
       "       [1., 1., 2., 1.],\n",
       "       [1., 0., 0., 1.],\n",
       "       [1., 2., 1., 3.],\n",
       "       [1., 2., 1., 1.],\n",
       "       [1., 2., 1., 1.],\n",
       "       [0., 1., 0., 2.],\n",
       "       [0., 2., 0., 1.]])"
      ]
     },
     "execution_count": 132,
     "metadata": {},
     "output_type": "execute_result"
    }
   ],
   "source": [
    "X = np.array(train.drop(['MainCategory'], 1).astype(float))\n",
    "X\n"
   ]
  },
  {
   "cell_type": "code",
   "execution_count": 133,
   "metadata": {},
   "outputs": [
    {
     "data": {
      "text/plain": [
       "array([1, 5, 3, 4, 4, 2, 0, 4, 5, 1, 3, 1, 1, 0, 5, 0, 5, 5, 1, 1, 5, 1,\n",
       "       1, 0, 1, 1, 1, 5, 1, 1, 1, 3, 5, 0, 1, 1, 1, 5, 1, 1, 1, 3, 1, 1,\n",
       "       5, 1, 0, 0, 5, 3, 5, 0, 0, 1, 1, 1, 1, 0, 1, 1])"
      ]
     },
     "execution_count": 133,
     "metadata": {},
     "output_type": "execute_result"
    }
   ],
   "source": [
    "y = np.array(train['MainCategory'])\n",
    "y"
   ]
  },
  {
   "cell_type": "code",
   "execution_count": 134,
   "metadata": {},
   "outputs": [
    {
     "name": "stdout",
     "output_type": "stream",
     "text": [
      "<class 'pandas.core.frame.DataFrame'>\n",
      "MultiIndex: 60 entries, (62.0, 72) to (28.0, 38)\n",
      "Data columns (total 5 columns):\n",
      "Transport       60 non-null int32\n",
      "Architecture    60 non-null int32\n",
      "Food            60 non-null int32\n",
      "Nature          60 non-null int32\n",
      "MainCategory    60 non-null int32\n",
      "dtypes: int32(5)\n",
      "memory usage: 2.5+ KB\n"
     ]
    }
   ],
   "source": [
    "train.info()"
   ]
  },
  {
   "cell_type": "code",
   "execution_count": 135,
   "metadata": {},
   "outputs": [
    {
     "data": {
      "text/plain": [
       "KMeans(algorithm='auto', copy_x=True, init='k-means++', max_iter=300,\n",
       "    n_clusters=3, n_init=10, n_jobs=None, precompute_distances='auto',\n",
       "    random_state=None, tol=0.0001, verbose=0)"
      ]
     },
     "execution_count": 135,
     "metadata": {},
     "output_type": "execute_result"
    }
   ],
   "source": [
    "kmeans = KMeans(n_clusters=3)\n",
    "kmeans.fit(X)"
   ]
  },
  {
   "cell_type": "code",
   "execution_count": 136,
   "metadata": {},
   "outputs": [
    {
     "name": "stdout",
     "output_type": "stream",
     "text": [
      "0.35\n"
     ]
    }
   ],
   "source": [
    "correct = 0\n",
    "for i in range(len(X)):\n",
    "    predict_me = np.array(X[i].astype(float))\n",
    "    predict_me = predict_me.reshape(-1, len(predict_me))\n",
    "    prediction = kmeans.predict(predict_me)\n",
    "    if prediction[0] == y[i]:\n",
    "        correct += 1\n",
    "print(correct/len(X))"
   ]
  },
  {
   "cell_type": "code",
   "execution_count": 137,
   "metadata": {},
   "outputs": [
    {
     "data": {
      "text/plain": [
       "KMeans(algorithm='full', copy_x=False, init='k-means++', max_iter=4000,\n",
       "    n_clusters=3, n_init=20, n_jobs=None, precompute_distances=False,\n",
       "    random_state=None, tol=0.0001, verbose=0)"
      ]
     },
     "execution_count": 137,
     "metadata": {},
     "output_type": "execute_result"
    }
   ],
   "source": [
    "kmeans =  KMeans(n_clusters=3, n_init=20, max_iter=4000, precompute_distances=False, algorithm='full', copy_x=False)\n",
    "kmeans.fit(X)"
   ]
  },
  {
   "cell_type": "code",
   "execution_count": 138,
   "metadata": {},
   "outputs": [
    {
     "name": "stdout",
     "output_type": "stream",
     "text": [
      "0.35\n"
     ]
    }
   ],
   "source": [
    "correct = 0\n",
    "for i in range(len(X)):\n",
    "    predict_me = np.array(X[i].astype(float))\n",
    "    predict_me = predict_me.reshape(-1, len(predict_me))\n",
    "    prediction = kmeans.predict(predict_me)\n",
    "    if prediction[0] == y[i]:\n",
    "        correct += 1\n",
    "\n",
    "print(correct/len(X))"
   ]
  },
  {
   "cell_type": "code",
   "execution_count": 139,
   "metadata": {},
   "outputs": [],
   "source": [
    "scaler = MinMaxScaler()\n",
    "X_scaled = scaler.fit_transform(X)"
   ]
  },
  {
   "cell_type": "code",
   "execution_count": 140,
   "metadata": {},
   "outputs": [
    {
     "data": {
      "text/plain": [
       "KMeans(algorithm='full', copy_x=False, init='k-means++', max_iter=4000,\n",
       "    n_clusters=3, n_init=20, n_jobs=None, precompute_distances=False,\n",
       "    random_state=None, tol=0.0001, verbose=0)"
      ]
     },
     "execution_count": 140,
     "metadata": {},
     "output_type": "execute_result"
    }
   ],
   "source": [
    "kmeans.fit(X_scaled)\n"
   ]
  },
  {
   "cell_type": "code",
   "execution_count": 141,
   "metadata": {},
   "outputs": [
    {
     "name": "stdout",
     "output_type": "stream",
     "text": [
      "0.43333333333333335\n"
     ]
    }
   ],
   "source": [
    "correct = 0\n",
    "for i in range(len(X)):\n",
    "    predict_me = np.array(X[i].astype(float))\n",
    "    predict_me = predict_me.reshape(-1, len(predict_me))\n",
    "    prediction = kmeans.predict(predict_me)\n",
    "    if prediction[0] == y[i]:\n",
    "        correct += 1\n",
    "\n",
    "print(correct/len(X))"
   ]
  },
  {
   "cell_type": "code",
   "execution_count": null,
   "metadata": {},
   "outputs": [],
   "source": []
  }
 ],
 "metadata": {
  "kernelspec": {
   "display_name": "Python 3",
   "language": "python",
   "name": "python3"
  },
  "language_info": {
   "codemirror_mode": {
    "name": "ipython",
    "version": 3
   },
   "file_extension": ".py",
   "mimetype": "text/x-python",
   "name": "python",
   "nbconvert_exporter": "python",
   "pygments_lexer": "ipython3",
   "version": "3.7.2"
  }
 },
 "nbformat": 4,
 "nbformat_minor": 2
}
