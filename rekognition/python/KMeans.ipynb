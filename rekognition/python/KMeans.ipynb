{
 "cells": [
  {
   "cell_type": "code",
   "execution_count": 1,
   "metadata": {},
   "outputs": [],
   "source": [
    "# Dependencies\n",
    "\n",
    "import pandas as pd\n",
    "import numpy as np\n",
    "from sklearn.cluster import KMeans\n",
    "from sklearn.preprocessing import LabelEncoder\n",
    "from sklearn.preprocessing import MinMaxScaler\n",
    "import seaborn as sns\n",
    "import matplotlib.pyplot as plt\n",
    "%matplotlib inline"
   ]
  },
  {
   "cell_type": "code",
   "execution_count": 2,
   "metadata": {},
   "outputs": [],
   "source": [
    "names = ['ID','UserID','first_name','last_name','email','gender','City','Country', 'Age', 'Profession','Architecture', 'Clothing', 'Food','Transport','MainCategory']\n",
    "dataset = pd.read_csv(\"F:/Masters/Semester 3/rekognition/dataset-final.csv\", delimiter=\",\",names=names)\n",
    "dataset.drop(dataset.columns[[0,1, 2, 3, 4, 5, 6, 7, 8, 9]], axis=1, inplace=True)\n",
    "dataset = dataset.iloc[1:]"
   ]
  },
  {
   "cell_type": "code",
   "execution_count": 3,
   "metadata": {},
   "outputs": [
    {
     "data": {
      "text/plain": [
       "Architecture    object\n",
       "Clothing        object\n",
       "Food            object\n",
       "Transport       object\n",
       "MainCategory    object\n",
       "dtype: object"
      ]
     },
     "execution_count": 3,
     "metadata": {},
     "output_type": "execute_result"
    }
   ],
   "source": [
    "dataset.dtypes"
   ]
  },
  {
   "cell_type": "code",
   "execution_count": 4,
   "metadata": {},
   "outputs": [],
   "source": [
    "#dataset['gender'] = dataset['gender'].astype(str).astype(int)\n",
    "#dataset['City'] = dataset['City'].astype(str).astype(int)\n",
    "#dataset['Country'] = dataset['Country'].astype(str).astype(int)\n",
    "#dataset['Age'] = dataset['Age'].astype(str).astype(int)\n",
    "#dataset['Profession'] = dataset['Profession'].astype(str).astype(int)\n",
    "dataset['Architecture'] = dataset['Architecture'].astype(str).astype(int)\n",
    "dataset['Clothing'] = dataset['Clothing'].astype(str).astype(int)\n",
    "dataset['Food'] = dataset['Food'].astype(str).astype(int)\n",
    "dataset['Transport'] = dataset['Transport'].astype(str).astype(int)\n",
    "dataset['MainCategory'] = dataset['MainCategory'].astype(str).astype(int)\n",
    "\n",
    "from sklearn.model_selection import train_test_split  \n",
    "train, test = train_test_split(dataset, test_size=0.3)  "
   ]
  },
  {
   "cell_type": "code",
   "execution_count": 5,
   "metadata": {},
   "outputs": [
    {
     "name": "stdout",
     "output_type": "stream",
     "text": [
      "***** Train_Set *****\n",
      "    Architecture  Clothing  Food  Transport  MainCategory\n",
      "33             1         1     0          3             2\n",
      "60             1         0     1          3             2\n",
      "48             0         0     5          0             1\n",
      "46             4         0     0          1             0\n",
      "91             4         0     0          1             0\n",
      "\n",
      "\n",
      "***** Test_Set *****\n",
      "    Architecture  Clothing  Food  Transport  MainCategory\n",
      "55             1         0     4          0             1\n",
      "18             2         0     0          3             2\n",
      "71             0         2     3          0             1\n",
      "58             1         1     1          2             2\n",
      "1              1         1     0          3             2\n"
     ]
    }
   ],
   "source": [
    "print(\"***** Train_Set *****\")\n",
    "print(train.head())\n",
    "print(\"\\n\")\n",
    "print(\"***** Test_Set *****\")\n",
    "print(test.head())"
   ]
  },
  {
   "cell_type": "code",
   "execution_count": 6,
   "metadata": {},
   "outputs": [
    {
     "name": "stdout",
     "output_type": "stream",
     "text": [
      "***** Train_Set *****\n",
      "       Architecture   Clothing       Food  Transport  MainCategory\n",
      "count     70.000000  70.000000  70.000000  70.000000     70.000000\n",
      "mean       1.928571   0.300000   1.271429   1.500000      0.957143\n",
      "std        1.722161   0.547723   1.801138   1.316011      0.891761\n",
      "min        0.000000   0.000000   0.000000   0.000000      0.000000\n",
      "25%        0.250000   0.000000   0.000000   0.000000      0.000000\n",
      "50%        1.000000   0.000000   1.000000   1.000000      1.000000\n",
      "75%        3.750000   0.750000   1.000000   3.000000      2.000000\n",
      "max        5.000000   2.000000   5.000000   5.000000      2.000000\n",
      "\n",
      "\n",
      "***** Test_Set *****\n",
      "       Architecture   Clothing       Food  Transport  MainCategory\n",
      "count     30.000000  30.000000  30.000000  30.000000     30.000000\n",
      "mean       1.700000   0.400000   1.366667   1.533333      1.166667\n",
      "std        1.342925   0.621455   1.691425   1.279368      0.833908\n",
      "min        0.000000   0.000000   0.000000   0.000000      0.000000\n",
      "25%        1.000000   0.000000   0.000000   0.000000      0.250000\n",
      "50%        1.000000   0.000000   1.000000   1.000000      1.000000\n",
      "75%        2.000000   1.000000   2.750000   3.000000      2.000000\n",
      "max        5.000000   2.000000   5.000000   3.000000      2.000000\n"
     ]
    }
   ],
   "source": [
    "print(\"***** Train_Set *****\")\n",
    "print(train.describe())\n",
    "print(\"\\n\")\n",
    "print(\"***** Test_Set *****\")\n",
    "print(test.describe())"
   ]
  },
  {
   "cell_type": "code",
   "execution_count": 7,
   "metadata": {},
   "outputs": [
    {
     "name": "stdout",
     "output_type": "stream",
     "text": [
      "<class 'pandas.core.frame.DataFrame'>\n",
      "Int64Index: 70 entries, 33 to 34\n",
      "Data columns (total 5 columns):\n",
      "Architecture    70 non-null int32\n",
      "Clothing        70 non-null int32\n",
      "Food            70 non-null int32\n",
      "Transport       70 non-null int32\n",
      "MainCategory    70 non-null int32\n",
      "dtypes: int32(5)\n",
      "memory usage: 1.9 KB\n"
     ]
    }
   ],
   "source": [
    "\n",
    "\n",
    "train.info()\n"
   ]
  },
  {
   "cell_type": "code",
   "execution_count": 8,
   "metadata": {},
   "outputs": [],
   "source": [
    "X = np.array(train.drop(['MainCategory'], 1).astype(float))"
   ]
  },
  {
   "cell_type": "code",
   "execution_count": 9,
   "metadata": {},
   "outputs": [],
   "source": [
    "y = np.array(train['MainCategory'])\n"
   ]
  },
  {
   "cell_type": "code",
   "execution_count": 10,
   "metadata": {},
   "outputs": [
    {
     "name": "stdout",
     "output_type": "stream",
     "text": [
      "<class 'pandas.core.frame.DataFrame'>\n",
      "Int64Index: 70 entries, 33 to 34\n",
      "Data columns (total 5 columns):\n",
      "Architecture    70 non-null int32\n",
      "Clothing        70 non-null int32\n",
      "Food            70 non-null int32\n",
      "Transport       70 non-null int32\n",
      "MainCategory    70 non-null int32\n",
      "dtypes: int32(5)\n",
      "memory usage: 1.9 KB\n"
     ]
    }
   ],
   "source": [
    "train.info()"
   ]
  },
  {
   "cell_type": "code",
   "execution_count": 11,
   "metadata": {},
   "outputs": [
    {
     "data": {
      "text/plain": [
       "KMeans(algorithm='auto', copy_x=True, init='k-means++', max_iter=300,\n",
       "    n_clusters=2, n_init=10, n_jobs=None, precompute_distances='auto',\n",
       "    random_state=None, tol=0.0001, verbose=0)"
      ]
     },
     "execution_count": 11,
     "metadata": {},
     "output_type": "execute_result"
    }
   ],
   "source": [
    "kmeans = KMeans(n_clusters=2) # You want cluster the passenger records into 2: Survived or Not survived\n",
    "kmeans.fit(X)"
   ]
  },
  {
   "cell_type": "code",
   "execution_count": 12,
   "metadata": {},
   "outputs": [
    {
     "name": "stdout",
     "output_type": "stream",
     "text": [
      "0.0\n"
     ]
    }
   ],
   "source": [
    "correct = 0\n",
    "for i in range(len(X)):\n",
    "    predict_me = np.array(X[i].astype(float))\n",
    "    predict_me = predict_me.reshape(-1, len(predict_me))\n",
    "    prediction = kmeans.predict(predict_me)\n",
    "    if prediction[0] == y[i]:\n",
    "        correct += 1\n",
    "\n",
    "print(correct/len(X))"
   ]
  },
  {
   "cell_type": "code",
   "execution_count": 13,
   "metadata": {},
   "outputs": [
    {
     "data": {
      "text/plain": [
       "KMeans(algorithm='auto', copy_x=True, init='k-means++', max_iter=600,\n",
       "    n_clusters=2, n_init=10, n_jobs=None, precompute_distances='auto',\n",
       "    random_state=None, tol=0.0001, verbose=0)"
      ]
     },
     "execution_count": 13,
     "metadata": {},
     "output_type": "execute_result"
    }
   ],
   "source": [
    "kmeans = kmeans = KMeans(n_clusters=2, max_iter=600, algorithm = 'auto')\n",
    "kmeans.fit(X)\n"
   ]
  },
  {
   "cell_type": "code",
   "execution_count": 14,
   "metadata": {},
   "outputs": [
    {
     "name": "stdout",
     "output_type": "stream",
     "text": [
      "0.6285714285714286\n"
     ]
    }
   ],
   "source": [
    "correct = 0\n",
    "for i in range(len(X)):\n",
    "    predict_me = np.array(X[i].astype(float))\n",
    "    predict_me = predict_me.reshape(-1, len(predict_me))\n",
    "    prediction = kmeans.predict(predict_me)\n",
    "    if prediction[0] == y[i]:\n",
    "        correct += 1\n",
    "\n",
    "print(correct/len(X))"
   ]
  },
  {
   "cell_type": "code",
   "execution_count": 18,
   "metadata": {},
   "outputs": [],
   "source": [
    "scaler = MinMaxScaler()\n",
    "X_scaled = scaler.fit_transform(X)"
   ]
  },
  {
   "cell_type": "code",
   "execution_count": 19,
   "metadata": {},
   "outputs": [
    {
     "data": {
      "text/plain": [
       "KMeans(algorithm='auto', copy_x=True, init='k-means++', max_iter=600,\n",
       "    n_clusters=2, n_init=10, n_jobs=None, precompute_distances='auto',\n",
       "    random_state=None, tol=0.0001, verbose=0)"
      ]
     },
     "execution_count": 19,
     "metadata": {},
     "output_type": "execute_result"
    }
   ],
   "source": [
    "kmeans.fit(X_scaled)\n"
   ]
  },
  {
   "cell_type": "code",
   "execution_count": 20,
   "metadata": {},
   "outputs": [
    {
     "name": "stdout",
     "output_type": "stream",
     "text": [
      "0.6285714285714286\n"
     ]
    }
   ],
   "source": [
    "correct = 0\n",
    "for i in range(len(X)):\n",
    "    predict_me = np.array(X[i].astype(float))\n",
    "    predict_me = predict_me.reshape(-1, len(predict_me))\n",
    "    prediction = kmeans.predict(predict_me)\n",
    "    if prediction[0] == y[i]:\n",
    "        correct += 1\n",
    "\n",
    "print(correct/len(X))"
   ]
  },
  {
   "cell_type": "code",
   "execution_count": null,
   "metadata": {},
   "outputs": [],
   "source": []
  }
 ],
 "metadata": {
  "kernelspec": {
   "display_name": "Python 3",
   "language": "python",
   "name": "python3"
  },
  "language_info": {
   "codemirror_mode": {
    "name": "ipython",
    "version": 3
   },
   "file_extension": ".py",
   "mimetype": "text/x-python",
   "name": "python",
   "nbconvert_exporter": "python",
   "pygments_lexer": "ipython3",
   "version": "3.7.2"
  }
 },
 "nbformat": 4,
 "nbformat_minor": 2
}
