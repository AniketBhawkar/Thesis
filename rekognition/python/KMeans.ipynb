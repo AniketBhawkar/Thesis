{
 "cells": [
  {
   "cell_type": "code",
   "execution_count": 18,
   "metadata": {},
   "outputs": [],
   "source": [
    "# Dependencies\n",
    "\n",
    "import pandas as pd\n",
    "import numpy as np\n",
    "from sklearn.cluster import KMeans\n",
    "from sklearn.preprocessing import LabelEncoder\n",
    "from sklearn.preprocessing import MinMaxScaler\n",
    "import seaborn as sns\n",
    "import matplotlib.pyplot as plt\n",
    "%matplotlib inline"
   ]
  },
  {
   "cell_type": "code",
   "execution_count": 19,
   "metadata": {},
   "outputs": [],
   "source": [
    "names = ['ID','UserID','first_name','last_name','email','gender','City','Country', 'Age', 'Profession','Architecture', 'Clothing', 'Food','Transport','MainCategory']\n",
    "dataset = pd.read_csv(\"F:/Masters/Semester 3/Thesis/rekognition/backup_01July2019/dataset-final.csv\", delimiter=\",\",names=names)\n",
    "dataset.drop(dataset.columns[[0,1, 2, 3, 4, 5, 6, 7, 8, 9]], axis=1, inplace=True)\n",
    "dataset = dataset.iloc[1:]"
   ]
  },
  {
   "cell_type": "code",
   "execution_count": 20,
   "metadata": {},
   "outputs": [
    {
     "data": {
      "text/plain": [
       "Architecture    object\n",
       "Clothing        object\n",
       "Food            object\n",
       "Transport       object\n",
       "MainCategory    object\n",
       "dtype: object"
      ]
     },
     "execution_count": 20,
     "metadata": {},
     "output_type": "execute_result"
    }
   ],
   "source": [
    "dataset.dtypes"
   ]
  },
  {
   "cell_type": "code",
   "execution_count": 21,
   "metadata": {},
   "outputs": [],
   "source": [
    "#dataset['gender'] = dataset['gender'].astype(str).astype(int)\n",
    "#dataset['City'] = dataset['City'].astype(str).astype(int)\n",
    "#dataset['Country'] = dataset['Country'].astype(str).astype(int)\n",
    "#dataset['Age'] = dataset['Age'].astype(str).astype(int)\n",
    "#dataset['Profession'] = dataset['Profession'].astype(str).astype(int)\n",
    "dataset['Architecture'] = dataset['Architecture'].astype(str).astype(int)\n",
    "dataset['Clothing'] = dataset['Clothing'].astype(str).astype(int)\n",
    "dataset['Food'] = dataset['Food'].astype(str).astype(int)\n",
    "dataset['Transport'] = dataset['Transport'].astype(str).astype(int)\n",
    "dataset['MainCategory'] = dataset['MainCategory'].astype(str).astype(int)\n",
    "\n",
    "from sklearn.model_selection import train_test_split  \n",
    "train, test = train_test_split(dataset, test_size=0.25)  "
   ]
  },
  {
   "cell_type": "code",
   "execution_count": 22,
   "metadata": {},
   "outputs": [
    {
     "name": "stdout",
     "output_type": "stream",
     "text": [
      "***** Train_Set *****\n",
      "     Architecture  Clothing  Food  Transport  MainCategory\n",
      "37              4         0     0          1             0\n",
      "421             4         0     0          1             0\n",
      "333             1         1     0          3             2\n",
      "295             0         0     4          1             1\n",
      "38              4         0     0          1             0\n",
      "\n",
      "\n",
      "***** Test_Set *****\n",
      "     Architecture  Clothing  Food  Transport  MainCategory\n",
      "437             4         0     0          1             0\n",
      "364             0         1     4          0             1\n",
      "283             3         0     1          1             0\n",
      "263             2         0     3          0             1\n",
      "400             1         1     1          2             2\n"
     ]
    }
   ],
   "source": [
    "print(\"***** Train_Set *****\")\n",
    "print(train.head())\n",
    "print(\"\\n\")\n",
    "print(\"***** Test_Set *****\")\n",
    "print(test.head())"
   ]
  },
  {
   "cell_type": "code",
   "execution_count": 23,
   "metadata": {},
   "outputs": [
    {
     "name": "stdout",
     "output_type": "stream",
     "text": [
      "***** Train_Set *****\n",
      "       Architecture    Clothing       Food   Transport  MainCategory\n",
      "count    375.000000  375.000000  375.00000  375.000000    375.000000\n",
      "mean       1.792000    0.336000    1.36000    1.512000      1.040000\n",
      "std        1.580104    0.570355    1.77505    1.285143      0.865871\n",
      "min        0.000000    0.000000    0.00000    0.000000      0.000000\n",
      "25%        1.000000    0.000000    0.00000    0.000000      0.000000\n",
      "50%        1.000000    0.000000    1.00000    1.000000      1.000000\n",
      "75%        3.000000    1.000000    2.00000    3.000000      2.000000\n",
      "max        5.000000    2.000000    5.00000    5.000000      2.000000\n",
      "\n",
      "\n",
      "***** Test_Set *****\n",
      "       Architecture    Clothing        Food   Transport  MainCategory\n",
      "count    125.000000  125.000000  125.000000  125.000000    125.000000\n",
      "mean       2.064000    0.312000    1.120000    1.504000      0.960000\n",
      "std        1.678824    0.559608    1.682931    1.323631      0.892622\n",
      "min        0.000000    0.000000    0.000000    0.000000      0.000000\n",
      "25%        1.000000    0.000000    0.000000    0.000000      0.000000\n",
      "50%        1.000000    0.000000    0.000000    1.000000      1.000000\n",
      "75%        4.000000    1.000000    1.000000    3.000000      2.000000\n",
      "max        5.000000    2.000000    5.000000    5.000000      2.000000\n"
     ]
    }
   ],
   "source": [
    "print(\"***** Train_Set *****\")\n",
    "print(train.describe())\n",
    "print(\"\\n\")\n",
    "print(\"***** Test_Set *****\")\n",
    "print(test.describe())"
   ]
  },
  {
   "cell_type": "code",
   "execution_count": 35,
   "metadata": {},
   "outputs": [
    {
     "name": "stdout",
     "output_type": "stream",
     "text": [
      "<class 'pandas.core.frame.DataFrame'>\n",
      "Int64Index: 375 entries, 37 to 176\n",
      "Data columns (total 5 columns):\n",
      "Architecture    375 non-null int32\n",
      "Clothing        375 non-null int32\n",
      "Food            375 non-null int32\n",
      "Transport       375 non-null int32\n",
      "MainCategory    375 non-null int32\n",
      "dtypes: int32(5)\n",
      "memory usage: 10.3 KB\n"
     ]
    }
   ],
   "source": [
    "\n",
    "\n",
    "train.info()\n"
   ]
  },
  {
   "cell_type": "code",
   "execution_count": 36,
   "metadata": {},
   "outputs": [],
   "source": [
    "X = np.array(train.drop(['MainCategory'], 1).astype(float))"
   ]
  },
  {
   "cell_type": "code",
   "execution_count": 37,
   "metadata": {},
   "outputs": [],
   "source": [
    "y = np.array(train['MainCategory'])\n"
   ]
  },
  {
   "cell_type": "code",
   "execution_count": 38,
   "metadata": {},
   "outputs": [
    {
     "name": "stdout",
     "output_type": "stream",
     "text": [
      "<class 'pandas.core.frame.DataFrame'>\n",
      "Int64Index: 375 entries, 37 to 176\n",
      "Data columns (total 5 columns):\n",
      "Architecture    375 non-null int32\n",
      "Clothing        375 non-null int32\n",
      "Food            375 non-null int32\n",
      "Transport       375 non-null int32\n",
      "MainCategory    375 non-null int32\n",
      "dtypes: int32(5)\n",
      "memory usage: 10.3 KB\n"
     ]
    }
   ],
   "source": [
    "train.info()"
   ]
  },
  {
   "cell_type": "code",
   "execution_count": 55,
   "metadata": {},
   "outputs": [
    {
     "data": {
      "text/plain": [
       "KMeans(algorithm='auto', copy_x=True, init='k-means++', max_iter=300,\n",
       "    n_clusters=4, n_init=10, n_jobs=None, precompute_distances='auto',\n",
       "    random_state=None, tol=0.0001, verbose=0)"
      ]
     },
     "execution_count": 55,
     "metadata": {},
     "output_type": "execute_result"
    }
   ],
   "source": [
    "kmeans = KMeans(n_clusters=4)\n",
    "kmeans.fit(X)"
   ]
  },
  {
   "cell_type": "code",
   "execution_count": 56,
   "metadata": {},
   "outputs": [
    {
     "name": "stdout",
     "output_type": "stream",
     "text": [
      "0.792\n"
     ]
    }
   ],
   "source": [
    "correct = 0\n",
    "for i in range(len(X)):\n",
    "    predict_me = np.array(X[i].astype(float))\n",
    "    predict_me = predict_me.reshape(-1, len(predict_me))\n",
    "    prediction = kmeans.predict(predict_me)\n",
    "    if prediction[0] == y[i]:\n",
    "        correct += 1\n",
    "\n",
    "print(correct/len(X))"
   ]
  },
  {
   "cell_type": "code",
   "execution_count": 57,
   "metadata": {},
   "outputs": [
    {
     "data": {
      "text/plain": [
       "KMeans(algorithm='full', copy_x=True, init='k-means++', max_iter=2000,\n",
       "    n_clusters=4, n_init=20, n_jobs=None, precompute_distances='auto',\n",
       "    random_state=None, tol=0.0001, verbose=0)"
      ]
     },
     "execution_count": 57,
     "metadata": {},
     "output_type": "execute_result"
    }
   ],
   "source": [
    "kmeans =  KMeans(n_clusters=4, n_init=20, max_iter=2000, algorithm = 'full')\n",
    "kmeans.fit(X)"
   ]
  },
  {
   "cell_type": "code",
   "execution_count": 58,
   "metadata": {},
   "outputs": [
    {
     "name": "stdout",
     "output_type": "stream",
     "text": [
      "0.832\n"
     ]
    }
   ],
   "source": [
    "correct = 0\n",
    "for i in range(len(X)):\n",
    "    predict_me = np.array(X[i].astype(float))\n",
    "    predict_me = predict_me.reshape(-1, len(predict_me))\n",
    "    prediction = kmeans.predict(predict_me)\n",
    "    if prediction[0] == y[i]:\n",
    "        correct += 1\n",
    "\n",
    "print(correct/len(X))"
   ]
  },
  {
   "cell_type": "code",
   "execution_count": 59,
   "metadata": {},
   "outputs": [],
   "source": [
    "scaler = MinMaxScaler()\n",
    "X_scaled = scaler.fit_transform(X)"
   ]
  },
  {
   "cell_type": "code",
   "execution_count": 60,
   "metadata": {},
   "outputs": [
    {
     "data": {
      "text/plain": [
       "KMeans(algorithm='full', copy_x=True, init='k-means++', max_iter=2000,\n",
       "    n_clusters=4, n_init=20, n_jobs=None, precompute_distances='auto',\n",
       "    random_state=None, tol=0.0001, verbose=0)"
      ]
     },
     "execution_count": 60,
     "metadata": {},
     "output_type": "execute_result"
    }
   ],
   "source": [
    "kmeans.fit(X_scaled)\n"
   ]
  },
  {
   "cell_type": "code",
   "execution_count": 61,
   "metadata": {},
   "outputs": [
    {
     "name": "stdout",
     "output_type": "stream",
     "text": [
      "0.6533333333333333\n"
     ]
    }
   ],
   "source": [
    "correct = 0\n",
    "for i in range(len(X)):\n",
    "    predict_me = np.array(X[i].astype(float))\n",
    "    predict_me = predict_me.reshape(-1, len(predict_me))\n",
    "    prediction = kmeans.predict(predict_me)\n",
    "    if prediction[0] == y[i]:\n",
    "        correct += 1\n",
    "\n",
    "print(correct/len(X))"
   ]
  },
  {
   "cell_type": "code",
   "execution_count": null,
   "metadata": {},
   "outputs": [],
   "source": []
  }
 ],
 "metadata": {
  "kernelspec": {
   "display_name": "Python 3",
   "language": "python",
   "name": "python3"
  },
  "language_info": {
   "codemirror_mode": {
    "name": "ipython",
    "version": 3
   },
   "file_extension": ".py",
   "mimetype": "text/x-python",
   "name": "python",
   "nbconvert_exporter": "python",
   "pygments_lexer": "ipython3",
   "version": "3.7.2"
  }
 },
 "nbformat": 4,
 "nbformat_minor": 2
}
