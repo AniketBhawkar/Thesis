{
 "cells": [
  {
   "cell_type": "code",
   "execution_count": 1,
   "metadata": {},
   "outputs": [
    {
     "name": "stderr",
     "output_type": "stream",
     "text": [
      "Using TensorFlow backend.\n"
     ]
    }
   ],
   "source": [
    "# Import libraries\n",
    "\n",
    "import tensorflow as tf\n",
    "import numpy as np\n",
    "import matplotlib.pyplot as plt\n",
    "import pandas as pd\n",
    "from sklearn.model_selection import train_test_split\n",
    "\n",
    "import keras\n",
    "from keras.models import Sequential\n",
    "from keras.layers import Dense\n",
    "from keras.layers import Dropout\n",
    "from keras.utils import to_categorical"
   ]
  },
  {
   "cell_type": "code",
   "execution_count": 2,
   "metadata": {},
   "outputs": [],
   "source": [
    "# Import dataset\n",
    "\n",
    "names = ['ID','UserID','first_name','last_name','email','gender','City','Country', 'Age', 'Profession','Adventure','Architecture', 'Beach', 'Clothing', 'Food', 'Nature','MainCategory']\n",
    "dataset = pd.read_csv(\"F:/Masters/Semester 3/thesis/rekognition/dataset-final.csv\", delimiter=\",\",names=names)\n",
    "dataset.drop(dataset.columns[[0, 1, 2, 3, 4, 5, 6, 7, 8, 9]], axis=1, inplace=True)\n",
    "dataset = dataset.iloc[1:]\n",
    "\n",
    "X = dataset.iloc[:, :-1].values  \n",
    "y = dataset.iloc[:, 6].values\n",
    "\n",
    "y = to_categorical(y, num_classes=None)"
   ]
  },
  {
   "cell_type": "code",
   "execution_count": 3,
   "metadata": {},
   "outputs": [
    {
     "data": {
      "text/plain": [
       "(59, 6, 1)"
      ]
     },
     "execution_count": 3,
     "metadata": {},
     "output_type": "execute_result"
    }
   ],
   "source": [
    "# Splitting dataset\n",
    "\n",
    "X_train, X_test, y_train, y_test = train_test_split(X, y, test_size=0.2, random_state = 4)  \n",
    "\n",
    "# reshape input to be [samples, time steps, features]\n",
    "X_train = np.reshape(X_train, (X_train.shape[0], X_train.shape[1],1))\n",
    "X_test = np.reshape(X_test, (X_test.shape[0], X_test.shape[1],1))\n",
    "\n",
    "y_train = np.reshape(y_train, (y_train.shape[0], y_train.shape[1],1))\n",
    "y_test = np.reshape(y_test, (y_test.shape[0], y_test.shape[1],1))\n",
    "\n",
    "X_test.shape"
   ]
  },
  {
   "cell_type": "code",
   "execution_count": 14,
   "metadata": {},
   "outputs": [
    {
     "ename": "ValueError",
     "evalue": "This model has not yet been built. Build the model first by calling build() or calling fit() with some data. Or specify input_shape or batch_input_shape in the first layer for automatic build. ",
     "output_type": "error",
     "traceback": [
      "\u001b[1;31m---------------------------------------------------------------------------\u001b[0m",
      "\u001b[1;31mValueError\u001b[0m                                Traceback (most recent call last)",
      "\u001b[1;32m<ipython-input-14-9c706dbbcd06>\u001b[0m in \u001b[0;36m<module>\u001b[1;34m\u001b[0m\n\u001b[0;32m      8\u001b[0m \u001b[1;33m\u001b[0m\u001b[0m\n\u001b[0;32m      9\u001b[0m \u001b[1;33m\u001b[0m\u001b[0m\n\u001b[1;32m---> 10\u001b[1;33m \u001b[0mclassifier\u001b[0m\u001b[1;33m.\u001b[0m\u001b[0msummary\u001b[0m\u001b[1;33m(\u001b[0m\u001b[1;33m)\u001b[0m\u001b[1;33m\u001b[0m\u001b[1;33m\u001b[0m\u001b[0m\n\u001b[0m\u001b[0;32m     11\u001b[0m \u001b[1;33m\u001b[0m\u001b[0m\n",
      "\u001b[1;32m~\\Anaconda3\\lib\\site-packages\\keras\\engine\\network.py\u001b[0m in \u001b[0;36msummary\u001b[1;34m(self, line_length, positions, print_fn)\u001b[0m\n\u001b[0;32m   1250\u001b[0m         \u001b[1;32mif\u001b[0m \u001b[1;32mnot\u001b[0m \u001b[0mself\u001b[0m\u001b[1;33m.\u001b[0m\u001b[0mbuilt\u001b[0m\u001b[1;33m:\u001b[0m\u001b[1;33m\u001b[0m\u001b[1;33m\u001b[0m\u001b[0m\n\u001b[0;32m   1251\u001b[0m             raise ValueError(\n\u001b[1;32m-> 1252\u001b[1;33m                 \u001b[1;34m'This model has not yet been built. '\u001b[0m\u001b[1;33m\u001b[0m\u001b[1;33m\u001b[0m\u001b[0m\n\u001b[0m\u001b[0;32m   1253\u001b[0m                 \u001b[1;34m'Build the model first by calling build() '\u001b[0m\u001b[1;33m\u001b[0m\u001b[1;33m\u001b[0m\u001b[0m\n\u001b[0;32m   1254\u001b[0m                 \u001b[1;34m'or calling fit() with some data. '\u001b[0m\u001b[1;33m\u001b[0m\u001b[1;33m\u001b[0m\u001b[0m\n",
      "\u001b[1;31mValueError\u001b[0m: This model has not yet been built. Build the model first by calling build() or calling fit() with some data. Or specify input_shape or batch_input_shape in the first layer for automatic build. "
     ]
    }
   ],
   "source": [
    "classifier = keras.Sequential()\n",
    "\n",
    "classifier.add(Dense(units=256, kernel_initializer='uniform', activation='relu'))\n",
    "classifier.add(Dropout(rate=0.4))\n",
    "classifier.add(Dense(units=128, kernel_initializer='uniform', activation='relu'))\n",
    "classifier.add(Dropout(rate=0.3))\n",
    "classifier.add(Dense(units=1, kernel_initializer='uniform', activation='softmax'))\n",
    "\n",
    "\n",
    "classifier.summary()\n",
    "\n"
   ]
  },
  {
   "cell_type": "code",
   "execution_count": 15,
   "metadata": {},
   "outputs": [],
   "source": [
    "classifier.compile(optimizer='adam', loss='binary_crossentropy', metrics=['accuracy'])"
   ]
  },
  {
   "cell_type": "code",
   "execution_count": 13,
   "metadata": {},
   "outputs": [
    {
     "name": "stdout",
     "output_type": "stream",
     "text": [
      "Train on 232 samples, validate on 59 samples\n",
      "Epoch 1/40\n",
      "232/232 [==============================] - 0s 2ms/step - loss: 13.2853 - acc: 0.1667 - val_loss: 13.2853 - val_acc: 0.1667\n",
      "Epoch 2/40\n",
      "232/232 [==============================] - 0s 39us/step - loss: 13.2853 - acc: 0.1667 - val_loss: 13.2853 - val_acc: 0.1667\n",
      "Epoch 3/40\n",
      "232/232 [==============================] - 0s 39us/step - loss: 13.2853 - acc: 0.1667 - val_loss: 13.2853 - val_acc: 0.1667\n",
      "Epoch 4/40\n",
      "232/232 [==============================] - 0s 52us/step - loss: 13.2853 - acc: 0.1667 - val_loss: 13.2853 - val_acc: 0.1667\n",
      "Epoch 5/40\n",
      "232/232 [==============================] - 0s 52us/step - loss: 13.2853 - acc: 0.1667 - val_loss: 13.2853 - val_acc: 0.1667\n",
      "Epoch 6/40\n",
      "232/232 [==============================] - 0s 52us/step - loss: 13.2853 - acc: 0.1667 - val_loss: 13.2853 - val_acc: 0.1667\n",
      "Epoch 7/40\n",
      "232/232 [==============================] - 0s 52us/step - loss: 13.2853 - acc: 0.1667 - val_loss: 13.2853 - val_acc: 0.1667\n",
      "Epoch 8/40\n",
      "232/232 [==============================] - 0s 47us/step - loss: 13.2853 - acc: 0.1667 - val_loss: 13.2853 - val_acc: 0.1667\n",
      "Epoch 9/40\n",
      "232/232 [==============================] - 0s 52us/step - loss: 13.2853 - acc: 0.1667 - val_loss: 13.2853 - val_acc: 0.1667\n",
      "Epoch 10/40\n",
      "232/232 [==============================] - 0s 60us/step - loss: 13.2853 - acc: 0.1667 - val_loss: 13.2853 - val_acc: 0.1667\n",
      "Epoch 11/40\n",
      "232/232 [==============================] - 0s 56us/step - loss: 13.2853 - acc: 0.1667 - val_loss: 13.2853 - val_acc: 0.1667\n",
      "Epoch 12/40\n",
      "232/232 [==============================] - 0s 60us/step - loss: 13.2853 - acc: 0.1667 - val_loss: 13.2853 - val_acc: 0.1667\n",
      "Epoch 13/40\n",
      "232/232 [==============================] - 0s 52us/step - loss: 13.2853 - acc: 0.1667 - val_loss: 13.2853 - val_acc: 0.1667\n",
      "Epoch 14/40\n",
      "232/232 [==============================] - 0s 64us/step - loss: 13.2853 - acc: 0.1667 - val_loss: 13.2853 - val_acc: 0.1667\n",
      "Epoch 15/40\n",
      "232/232 [==============================] - 0s 52us/step - loss: 13.2853 - acc: 0.1667 - val_loss: 13.2853 - val_acc: 0.1667\n",
      "Epoch 16/40\n",
      "232/232 [==============================] - 0s 56us/step - loss: 13.2853 - acc: 0.1667 - val_loss: 13.2853 - val_acc: 0.1667\n",
      "Epoch 17/40\n",
      "232/232 [==============================] - 0s 52us/step - loss: 13.2853 - acc: 0.1667 - val_loss: 13.2853 - val_acc: 0.1667\n",
      "Epoch 18/40\n",
      "232/232 [==============================] - 0s 47us/step - loss: 13.2853 - acc: 0.1667 - val_loss: 13.2853 - val_acc: 0.1667\n",
      "Epoch 19/40\n",
      "232/232 [==============================] - 0s 56us/step - loss: 13.2853 - acc: 0.1667 - val_loss: 13.2853 - val_acc: 0.1667\n",
      "Epoch 20/40\n",
      "232/232 [==============================] - 0s 64us/step - loss: 13.2853 - acc: 0.1667 - val_loss: 13.2853 - val_acc: 0.1667\n",
      "Epoch 21/40\n",
      "232/232 [==============================] - 0s 60us/step - loss: 13.2853 - acc: 0.1667 - val_loss: 13.2853 - val_acc: 0.1667\n",
      "Epoch 22/40\n",
      "232/232 [==============================] - 0s 52us/step - loss: 13.2853 - acc: 0.1667 - val_loss: 13.2853 - val_acc: 0.1667\n",
      "Epoch 23/40\n",
      "232/232 [==============================] - 0s 77us/step - loss: 13.2853 - acc: 0.1667 - val_loss: 13.2853 - val_acc: 0.1667\n",
      "Epoch 24/40\n",
      "232/232 [==============================] - 0s 52us/step - loss: 13.2853 - acc: 0.1667 - val_loss: 13.2853 - val_acc: 0.1667\n",
      "Epoch 25/40\n",
      "232/232 [==============================] - 0s 69us/step - loss: 13.2853 - acc: 0.1667 - val_loss: 13.2853 - val_acc: 0.1667\n",
      "Epoch 26/40\n",
      "232/232 [==============================] - 0s 65us/step - loss: 13.2853 - acc: 0.1667 - val_loss: 13.2853 - val_acc: 0.1667\n",
      "Epoch 27/40\n",
      "232/232 [==============================] - 0s 52us/step - loss: 13.2853 - acc: 0.1667 - val_loss: 13.2853 - val_acc: 0.1667\n",
      "Epoch 28/40\n",
      "232/232 [==============================] - 0s 47us/step - loss: 13.2853 - acc: 0.1667 - val_loss: 13.2853 - val_acc: 0.1667\n",
      "Epoch 29/40\n",
      "232/232 [==============================] - 0s 64us/step - loss: 13.2853 - acc: 0.1667 - val_loss: 13.2853 - val_acc: 0.1667\n",
      "Epoch 30/40\n",
      "232/232 [==============================] - 0s 60us/step - loss: 13.2853 - acc: 0.1667 - val_loss: 13.2853 - val_acc: 0.1667\n",
      "Epoch 31/40\n",
      "232/232 [==============================] - 0s 64us/step - loss: 13.2853 - acc: 0.1667 - val_loss: 13.2853 - val_acc: 0.1667\n",
      "Epoch 32/40\n",
      "232/232 [==============================] - 0s 60us/step - loss: 13.2853 - acc: 0.1667 - val_loss: 13.2853 - val_acc: 0.1667\n",
      "Epoch 33/40\n",
      "232/232 [==============================] - ETA: 0s - loss: 13.2853 - acc: 0.16 - 0s 60us/step - loss: 13.2853 - acc: 0.1667 - val_loss: 13.2853 - val_acc: 0.1667\n",
      "Epoch 34/40\n",
      "232/232 [==============================] - ETA: 0s - loss: 13.2853 - acc: 0.16 - 0s 60us/step - loss: 13.2853 - acc: 0.1667 - val_loss: 13.2853 - val_acc: 0.1667\n",
      "Epoch 35/40\n",
      "232/232 [==============================] - 0s 52us/step - loss: 13.2853 - acc: 0.1667 - val_loss: 13.2853 - val_acc: 0.1667\n",
      "Epoch 36/40\n",
      "232/232 [==============================] - 0s 56us/step - loss: 13.2853 - acc: 0.1667 - val_loss: 13.2853 - val_acc: 0.1667\n",
      "Epoch 37/40\n",
      "232/232 [==============================] - 0s 52us/step - loss: 13.2853 - acc: 0.1667 - val_loss: 13.2853 - val_acc: 0.1667\n",
      "Epoch 38/40\n",
      "232/232 [==============================] - 0s 47us/step - loss: 13.2853 - acc: 0.1667 - val_loss: 13.2853 - val_acc: 0.1667\n",
      "Epoch 39/40\n",
      "232/232 [==============================] - 0s 64us/step - loss: 13.2853 - acc: 0.1667 - val_loss: 13.2853 - val_acc: 0.1667\n",
      "Epoch 40/40\n",
      "232/232 [==============================] - 0s 52us/step - loss: 13.2853 - acc: 0.1667 - val_loss: 13.2853 - val_acc: 0.1667\n"
     ]
    },
    {
     "data": {
      "text/plain": [
       "<keras.callbacks.History at 0x1b4ebd75860>"
      ]
     },
     "execution_count": 13,
     "metadata": {},
     "output_type": "execute_result"
    }
   ],
   "source": [
    "classifier.fit(X_train, y_train, epochs=40, batch_size=128, validation_data=(X_test,y_test), verbose=1)"
   ]
  },
  {
   "cell_type": "code",
   "execution_count": null,
   "metadata": {},
   "outputs": [],
   "source": []
  }
 ],
 "metadata": {
  "kernelspec": {
   "display_name": "Python 3",
   "language": "python",
   "name": "python3"
  },
  "language_info": {
   "codemirror_mode": {
    "name": "ipython",
    "version": 3
   },
   "file_extension": ".py",
   "mimetype": "text/x-python",
   "name": "python",
   "nbconvert_exporter": "python",
   "pygments_lexer": "ipython3",
   "version": "3.7.2"
  }
 },
 "nbformat": 4,
 "nbformat_minor": 2
}
